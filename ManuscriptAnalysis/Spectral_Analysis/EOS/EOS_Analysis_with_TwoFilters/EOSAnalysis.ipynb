{
 "cells": [
  {
   "metadata": {
    "ExecuteTime": {
     "end_time": "2025-10-28T15:25:37.237328Z",
     "start_time": "2025-10-28T15:25:36.154767Z"
    }
   },
   "cell_type": "code",
   "source": [
    "import matplotlib.pyplot as plt\n",
    "from Code_utilities.FromGlazPPAnalysis.Glaz_PP_Series_analysis import GlazPPSeriesAnalysis\n",
    "from Code_utilities.FromGlazPPAnalysis.GlazPumpProbeDataClass import GlazPumpProbeData\n",
    "\n",
    "plt.close('all')\n",
    "parent_dir_path ='/Users/Shared/Files From c.localized/Gabriel_UniBern_Local/DataAnalysis/Low cost THz Camera/SpectralResponseComparison/EOS'\n",
    "GlazPPSeriesAnalysis = GlazPPSeriesAnalysis(parent_dir_path, )\n",
    "\n",
    "GlazPPSeriesAnalysis.plot_all_spectrum_timetraces(keyword='SpectralDifference',\n",
    "                                                  bool_plot_normalized_time_trace=False)"
   ],
   "id": "2733827c609237a0",
   "outputs": [
    {
     "name": "stdout",
     "output_type": "stream",
     "text": [
      "Found unpumped file: /Users/Shared/Files From c.localized/Gabriel_UniBern_Local/DataAnalysis/Low cost THz Camera/SpectralResponseComparison/EOS/20250618_093759_woPump_0.txt\n",
      "DSTMS LP 10 THz\n",
      "Found unpumped file: /Users/Shared/Files From c.localized/Gabriel_UniBern_Local/DataAnalysis/Low cost THz Camera/SpectralResponseComparison/EOS/20250618_102132_woPump_0.txt\n",
      "DSTMS LP 3+2 THz\n",
      "Found unpumped file: /Users/Shared/Files From c.localized/Gabriel_UniBern_Local/DataAnalysis/Low cost THz Camera/SpectralResponseComparison/EOS/20250618_124150_woPump_0.txt\n",
      "PNPA LP 3+1 THz, longer range\n",
      "Found unpumped file: /Users/Shared/Files From c.localized/Gabriel_UniBern_Local/DataAnalysis/Low cost THz Camera/SpectralResponseComparison/EOS/20250618_095549_woPump_0.txt\n",
      "DSTMS LP 3 THz\n"
     ]
    },
    {
     "data": {
      "text/plain": [
       "(<Figure size 1000x600 with 2 Axes>,\n",
       " <Axes: title={'center': 'Differential Spectrum_DSTMS LP 3 THz'}, xlabel='Pixel', ylabel='Delay (ps)'>)"
      ]
     },
     "execution_count": 7,
     "metadata": {},
     "output_type": "execute_result"
    }
   ],
   "execution_count": 7
  },
  {
   "metadata": {
    "ExecuteTime": {
     "end_time": "2025-10-28T15:25:37.916164Z",
     "start_time": "2025-10-28T15:25:37.257641Z"
    }
   },
   "cell_type": "code",
   "source": [
    "import pandas as pd\n",
    "import numpy as np\n",
    "\n",
    "def spectral_centroid_and_spread(\n",
    "    frequency_axis_thz,\n",
    "    power_spectrum,\n",
    "    lower_freq_thz: float = 0.0,\n",
    "    upper_freq_thz: float | None = None\n",
    "):\n",
    "    \"\"\"\n",
    "    Compute power-weighted spectral centroid and spread over a chosen band.\n",
    "    Works with pandas Series or numpy arrays. Drops NaNs and sorts by frequency.\n",
    "    \"\"\"\n",
    "    # Convert to numpy arrays\n",
    "    f = frequency_axis_thz.to_numpy() if isinstance(frequency_axis_thz, pd.Series) else np.asarray(frequency_axis_thz)\n",
    "    w = power_spectrum.to_numpy() if isinstance(power_spectrum, pd.Series) else np.asarray(power_spectrum)\n",
    "\n",
    "    # Remove NaNs and ensure same length\n",
    "    valid = np.isfinite(f) & np.isfinite(w)\n",
    "    f, w = f[valid], w[valid]\n",
    "    if f.size == 0:\n",
    "        return np.nan, np.nan\n",
    "\n",
    "    # Sort by frequency in case it's not strictly increasing\n",
    "    order = np.argsort(f)\n",
    "    f, w = f[order], w[order]\n",
    "\n",
    "    if upper_freq_thz is None:\n",
    "        upper_freq_thz = f[-1]  # positional last element\n",
    "\n",
    "    # In-band mask\n",
    "    in_band = (f >= lower_freq_thz) & (f <= upper_freq_thz)\n",
    "    f_band = f[in_band]\n",
    "    w_band = w[in_band]\n",
    "    if f_band.size == 0:\n",
    "        return np.nan, np.nan\n",
    "\n",
    "    # Integrals\n",
    "    total_power = np.trapz(w_band, f_band)\n",
    "    if total_power <= 0:\n",
    "        return np.nan, np.nan\n",
    "\n",
    "    centroid = np.trapz(f_band * w_band, f_band) / total_power\n",
    "    spread  = (np.trapz(w_band, f_band))**2 / np.trapz(w_band**2, f_band)\n",
    "    return centroid, spread\n",
    "\n",
    "fig_ffts, ax_ffts, data_dict = GlazPPSeriesAnalysis.plot_all_ffts_together(pixel=310,\n",
    "                                                                           window_start=0,\n",
    "                                                                           window_end=6,\n",
    "                                                                           bool_organize_legend=True,\n",
    "                                                                           bool_save_fig=True,\n",
    "                                                                           plot_x_lim_min=0,\n",
    "                                                                           plot_x_lim_max=10,\n",
    "                                                                           bool_return_data=True, )\n",
    "weighted_average_df = pd.DataFrame(columns=['label',\n",
    "                                            'centroid',\n",
    "                                            'spread'])\n",
    "\n",
    "for label, df in data_dict.items():\n",
    "    df['FFT**2'] = df['FT Magnitude'] ** 2\n",
    "    centroid, spread=spectral_centroid_and_spread(frequency_axis_thz=df['Frequency (THz)'],\n",
    "                                                  power_spectrum=df['FFT**2'],)\n",
    "    weighted_average_df.loc[len(weighted_average_df)] = {\n",
    "    'label': label,\n",
    "    'centroid': centroid,\n",
    "    'spread': spread\n",
    "}\n",
    "\n",
    "\n",
    "\n",
    "# fig_ffts.show()\n",
    "#\n",
    "# data_df=GlazPPSeriesAnalysis.plot_all_timetraces_at_pixel_separately_returning_data(pixel = 310,\n",
    "#                                                              number_of_pixels_for_average=5,\n",
    "#                                                              spectrum_type_keyword='SpectralDifference',\n",
    "#                                                              save_fig_bool = True)\n",
    "#\n",
    "# file_path=data = GlazPumpProbeData_v2('/Users/Shared/Files From c.localized/Gabriel_UniBern_Local/DataAnalysis/Low cost THz Camera/SpectralResponseComparison/EOS/20250618_093759_SpectralDifference_0.txt')\n",
    "#\n",
    "# data = GlazPumpProbeData(file_path,\n",
    "#                          298.498477,\n",
    "#                          303.090665,\n",
    "#                          0.01)\n",
    "# data.plot_spectral_timetrace()\n",
    "# data.plot_cross_section(600)\n",
    "# data.plot_fft(600, 301.5, 303)\n",
    "\n",
    "\n"
   ],
   "id": "345c6c0e202254f1",
   "outputs": [
    {
     "name": "stdout",
     "output_type": "stream",
     "text": [
      "Found unpumped file: /Users/Shared/Files From c.localized/Gabriel_UniBern_Local/DataAnalysis/Low cost THz Camera/SpectralResponseComparison/EOS/20250618_093759_woPump_0.txt\n",
      "Found unpumped file: /Users/Shared/Files From c.localized/Gabriel_UniBern_Local/DataAnalysis/Low cost THz Camera/SpectralResponseComparison/EOS/20250618_102132_woPump_0.txt\n",
      "Found unpumped file: /Users/Shared/Files From c.localized/Gabriel_UniBern_Local/DataAnalysis/Low cost THz Camera/SpectralResponseComparison/EOS/20250618_124150_woPump_0.txt\n",
      "Found unpumped file: /Users/Shared/Files From c.localized/Gabriel_UniBern_Local/DataAnalysis/Low cost THz Camera/SpectralResponseComparison/EOS/20250618_095549_woPump_0.txt\n",
      "Found unpumped file: /Users/Shared/Files From c.localized/Gabriel_UniBern_Local/DataAnalysis/Low cost THz Camera/SpectralResponseComparison/EOS/20250618_093759_woPump_0.txt\n"
     ]
    },
    {
     "ename": "TypeError",
     "evalue": "GlazPumpProbeData.__init__() takes from 2 to 3 positional arguments but 5 were given",
     "output_type": "error",
     "traceback": [
      "\u001B[0;31m---------------------------------------------------------------------------\u001B[0m",
      "\u001B[0;31mTypeError\u001B[0m                                 Traceback (most recent call last)",
      "Cell \u001B[0;32mIn[8], line 80\u001B[0m\n\u001B[1;32m     71\u001B[0m \u001B[38;5;66;03m# fig_ffts.show()\u001B[39;00m\n\u001B[1;32m     72\u001B[0m \u001B[38;5;66;03m#\u001B[39;00m\n\u001B[1;32m     73\u001B[0m \u001B[38;5;66;03m# data_df=GlazPPSeriesAnalysis.plot_all_timetraces_at_pixel_separately_returning_data(pixel = 310,\u001B[39;00m\n\u001B[1;32m     74\u001B[0m \u001B[38;5;66;03m#                                                              number_of_pixels_for_average=5,\u001B[39;00m\n\u001B[1;32m     75\u001B[0m \u001B[38;5;66;03m#                                                              spectrum_type_keyword='SpectralDifference',\u001B[39;00m\n\u001B[1;32m     76\u001B[0m \u001B[38;5;66;03m#                                                              save_fig_bool = True)\u001B[39;00m\n\u001B[1;32m     78\u001B[0m file_path\u001B[38;5;241m=\u001B[39mdata \u001B[38;5;241m=\u001B[39m GlazPumpProbeData_v2(\u001B[38;5;124m'\u001B[39m\u001B[38;5;124m/Users/Shared/Files From c.localized/Gabriel_UniBern_Local/DataAnalysis/Low cost THz Camera/SpectralResponseComparison/EOS/20250618_093759_SpectralDifference_0.txt\u001B[39m\u001B[38;5;124m'\u001B[39m)\n\u001B[0;32m---> 80\u001B[0m data \u001B[38;5;241m=\u001B[39m GlazPumpProbeData(file_path,\n\u001B[1;32m     81\u001B[0m                          \u001B[38;5;241m298.498477\u001B[39m,\n\u001B[1;32m     82\u001B[0m                          \u001B[38;5;241m303.090665\u001B[39m,\n\u001B[1;32m     83\u001B[0m                          \u001B[38;5;241m0.01\u001B[39m)\n\u001B[1;32m     84\u001B[0m data\u001B[38;5;241m.\u001B[39mplot_spectral_timetrace()\n\u001B[1;32m     85\u001B[0m data\u001B[38;5;241m.\u001B[39mplot_cross_section(\u001B[38;5;241m600\u001B[39m)\n",
      "\u001B[0;31mTypeError\u001B[0m: GlazPumpProbeData.__init__() takes from 2 to 3 positional arguments but 5 were given"
     ]
    }
   ],
   "execution_count": 8
  }
 ],
 "metadata": {
  "kernelspec": {
   "display_name": "Python [conda env:base] *",
   "language": "python",
   "name": "conda-base-py"
  },
  "language_info": {
   "codemirror_mode": {
    "name": "ipython",
    "version": 2
   },
   "file_extension": ".py",
   "mimetype": "text/x-python",
   "name": "python",
   "nbconvert_exporter": "python",
   "pygments_lexer": "ipython2",
   "version": "2.7.6"
  }
 },
 "nbformat": 4,
 "nbformat_minor": 5
}
